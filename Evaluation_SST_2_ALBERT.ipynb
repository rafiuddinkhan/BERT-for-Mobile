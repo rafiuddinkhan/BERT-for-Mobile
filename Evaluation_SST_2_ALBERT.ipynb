{
  "nbformat": 4,
  "nbformat_minor": 0,
  "metadata": {
    "colab": {
      "name": "Evaluation_SST-2_DistilBERT.ipynb",
      "provenance": [],
      "authorship_tag": "ABX9TyP6tQK6NoXWlbZzk9/qcHLi",
      "include_colab_link": true
    },
    "kernelspec": {
      "name": "python3",
      "display_name": "Python 3"
    }
  },
  "cells": [
    {
      "cell_type": "markdown",
      "metadata": {
        "id": "view-in-github",
        "colab_type": "text"
      },
      "source": [
        "<a href=\"https://colab.research.google.com/github/sayakpaul/BERT-for-Mobile/blob/master/Evaluation_SST_2_ALBERT.ipynb\" target=\"_parent\"><img src=\"https://colab.research.google.com/assets/colab-badge.svg\" alt=\"Open In Colab\"/></a>"
      ]
    },
    {
      "cell_type": "markdown",
      "metadata": {
        "id": "mbsfmm2erKs7"
      },
      "source": [
        "## Initial Setup"
      ]
    },
    {
      "cell_type": "code",
      "metadata": {
        "id": "O-A0Aq_13kT0",
        "outputId": "1c6de1b8-a48b-4600-b425-56c643f9ccdd",
        "colab": {
          "base_uri": "https://localhost:8080/",
          "height": 68
        }
      },
      "source": [
        "!pip install -q tf-nightly"
      ],
      "execution_count": 1,
      "outputs": [
        {
          "output_type": "stream",
          "text": [
            "\u001b[K     |████████████████████████████████| 392.4MB 39kB/s \n",
            "\u001b[K     |████████████████████████████████| 10.6MB 188kB/s \n",
            "\u001b[K     |████████████████████████████████| 471kB 47.3MB/s \n",
            "\u001b[?25h"
          ],
          "name": "stdout"
        }
      ]
    },
    {
      "cell_type": "code",
      "metadata": {
        "id": "wNmdSmeP4gz3",
        "outputId": "9fe3411b-6b82-45ab-baed-3e4e8f11e6d6",
        "colab": {
          "base_uri": "https://localhost:8080/",
          "height": 102
        }
      },
      "source": [
        "!pip install -q transformers"
      ],
      "execution_count": 2,
      "outputs": [
        {
          "output_type": "stream",
          "text": [
            "\u001b[K     |████████████████████████████████| 1.1MB 2.8MB/s \n",
            "\u001b[K     |████████████████████████████████| 1.1MB 17.6MB/s \n",
            "\u001b[K     |████████████████████████████████| 3.0MB 24.0MB/s \n",
            "\u001b[K     |████████████████████████████████| 890kB 42.7MB/s \n",
            "\u001b[?25h  Building wheel for sacremoses (setup.py) ... \u001b[?25l\u001b[?25hdone\n"
          ],
          "name": "stdout"
        }
      ]
    },
    {
      "cell_type": "code",
      "metadata": {
        "id": "wdF0sY7p4AnT"
      },
      "source": [
        "# Get the models\n",
        "!wget -q https://github.com/sayakpaul/BERT-for-Mobile/releases/download/v0.5.0/ALBERT.zip\n",
        "!unzip -qq ALBERT.zip"
      ],
      "execution_count": 3,
      "outputs": []
    },
    {
      "cell_type": "code",
      "metadata": {
        "id": "VithT5ml4Q8d",
        "outputId": "efed393e-2b46-4862-e800-0ece3361cdc2",
        "colab": {
          "base_uri": "https://localhost:8080/",
          "height": 204
        }
      },
      "source": [
        "import tensorflow as tf\n",
        "print(tf.__version__)"
      ],
      "execution_count": 2,
      "outputs": [
        {
          "output_type": "stream",
          "text": [
            "INFO:tensorflow:Using local port 21810\n",
            "INFO:tensorflow:Using local port 16956\n",
            "INFO:tensorflow:Using local port 17233\n",
            "INFO:tensorflow:Using local port 23105\n",
            "INFO:tensorflow:Using local port 21075\n",
            "INFO:tensorflow:Using local port 23924\n",
            "INFO:tensorflow:Using local port 24231\n",
            "INFO:tensorflow:Using local port 21347\n",
            "INFO:tensorflow:Using local port 19228\n",
            "INFO:tensorflow:Using local port 22001\n",
            "2.4.0-dev20201014\n"
          ],
          "name": "stdout"
        }
      ]
    },
    {
      "cell_type": "code",
      "metadata": {
        "id": "cSoSRwv35uXV"
      },
      "source": [
        "import os\n",
        "import numpy as np\n",
        "import pandas as pd\n",
        "import transformers\n",
        "\n",
        "from sklearn.metrics import accuracy_score\n",
        "\n",
        "# Fix random seed for reproducibility\n",
        "seed = 42\n",
        "np.random.seed(seed)\n",
        "tf.random.set_seed(seed)"
      ],
      "execution_count": 3,
      "outputs": []
    },
    {
      "cell_type": "markdown",
      "metadata": {
        "id": "t7t57N7arRkx"
      },
      "source": [
        "## SST-2 dataset"
      ]
    },
    {
      "cell_type": "code",
      "metadata": {
        "id": "BESTeIN353or"
      },
      "source": [
        "data_dir = tf.keras.utils.get_file(\n",
        "      fname='SST-2.zip',\n",
        "      origin='https://firebasestorage.googleapis.com/v0/b/mtl-sentence-representations.appspot.com/o/data%2FSST-2.zip?alt=media&token=aabc5f6b-e466-44a2-b9b4-cf6337f84ac8',\n",
        "      extract=True)\n",
        "data_dir = os.path.join(os.path.dirname(data_dir), 'SST-2')"
      ],
      "execution_count": 4,
      "outputs": []
    },
    {
      "cell_type": "code",
      "metadata": {
        "id": "2IhK4cCk56C7"
      },
      "source": [
        "# The validation set has got labels\n",
        "valid = os.path.join(data_dir, \"dev.tsv\")"
      ],
      "execution_count": 5,
      "outputs": []
    },
    {
      "cell_type": "code",
      "metadata": {
        "id": "5qD-4sii6Cnk",
        "outputId": "e834b7d4-b438-4f31-835f-36063154bb00",
        "colab": {
          "base_uri": "https://localhost:8080/",
          "height": 170
        }
      },
      "source": [
        "valid_dataset = pd.read_csv(valid, sep='\\t')\n",
        "valid_dataset.info()"
      ],
      "execution_count": 6,
      "outputs": [
        {
          "output_type": "stream",
          "text": [
            "<class 'pandas.core.frame.DataFrame'>\n",
            "RangeIndex: 872 entries, 0 to 871\n",
            "Data columns (total 2 columns):\n",
            " #   Column    Non-Null Count  Dtype \n",
            "---  ------    --------------  ----- \n",
            " 0   sentence  872 non-null    object\n",
            " 1   label     872 non-null    int64 \n",
            "dtypes: int64(1), object(1)\n",
            "memory usage: 13.8+ KB\n"
          ],
          "name": "stdout"
        }
      ]
    },
    {
      "cell_type": "code",
      "metadata": {
        "id": "o7PU5BbO6Fzk"
      },
      "source": [
        "valid_reviews = valid_dataset['sentence'].values\n",
        "valid_sentiments = valid_dataset['label'].values"
      ],
      "execution_count": 7,
      "outputs": []
    },
    {
      "cell_type": "code",
      "metadata": {
        "id": "B0nJPhJ86IO1"
      },
      "source": [
        "tokenizer = transformers.AlbertTokenizer.from_pretrained('albert-base-v2')"
      ],
      "execution_count": 8,
      "outputs": []
    },
    {
      "cell_type": "markdown",
      "metadata": {
        "id": "ee0-6e9crT6A"
      },
      "source": [
        "## Preprocess Dataset\n",
        "\n",
        "The following snippet is referred from [here](https://github.com/dipanjanS/deep_transfer_learning_nlp_dhs2019/blob/master/notebooks/6%20-%20Transformers%20-%20DistilBERT.ipynb). "
      ]
    },
    {
      "cell_type": "code",
      "metadata": {
        "id": "nsGqSBi96J-K"
      },
      "source": [
        "import tqdm\n",
        "\n",
        "def create_bert_input_features(tokenizer, docs, max_seq_length):\n",
        "    \n",
        "    all_ids, all_masks, all_segments= [], [], []\n",
        "    for doc in tqdm.tqdm(docs, desc=\"Converting docs to features\"):\n",
        "        tokens = tokenizer.tokenize(doc)\n",
        "        if len(tokens) > max_seq_length-2:\n",
        "            tokens = tokens[0 : (max_seq_length-2)]\n",
        "        tokens = ['[CLS]'] + tokens + ['[SEP]']\n",
        "        ids = tokenizer.convert_tokens_to_ids(tokens)\n",
        "        masks = [1] * len(ids)\n",
        "        # Zero-pad up to the sequence length.\n",
        "        while len(ids) < max_seq_length:\n",
        "            ids.append(0)\n",
        "            masks.append(0)\n",
        "        segments = [0] * max_seq_length\n",
        "        all_ids.append(ids)\n",
        "        all_masks.append(masks)\n",
        "        all_segments.append(segments)\n",
        "    encoded = np.array([all_ids, all_masks, all_segments])\n",
        "    return encoded"
      ],
      "execution_count": 9,
      "outputs": []
    },
    {
      "cell_type": "code",
      "metadata": {
        "id": "AF90BdsV6MDp",
        "outputId": "b8c85f07-fcbf-4fc9-c234-dfba9fc7f997",
        "colab": {
          "base_uri": "https://localhost:8080/",
          "height": 51
        }
      },
      "source": [
        "MAX_SEQ_LENGTH = 128\n",
        "\n",
        "val_features_ids, val_features_masks, val_features_segments = create_bert_input_features(tokenizer, \n",
        "                                                                                         valid_reviews, \n",
        "                                                                                         max_seq_length=MAX_SEQ_LENGTH)\n",
        "print('Val Features:', val_features_ids.shape, val_features_masks.shape, val_features_segments.shape)"
      ],
      "execution_count": 18,
      "outputs": [
        {
          "output_type": "stream",
          "text": [
            "Converting docs to features: 100%|██████████| 872/872 [00:00<00:00, 6365.09it/s]"
          ],
          "name": "stderr"
        },
        {
          "output_type": "stream",
          "text": [
            "Val Features: (872, 128) (872, 128) (872, 128)\n"
          ],
          "name": "stdout"
        },
        {
          "output_type": "stream",
          "text": [
            "\n"
          ],
          "name": "stderr"
        }
      ]
    },
    {
      "cell_type": "markdown",
      "metadata": {
        "id": "3oxmQsPJsEnV"
      },
      "source": [
        "## Load TensorFlow Lite Interpreter and Run Demo Inference"
      ]
    },
    {
      "cell_type": "code",
      "metadata": {
        "id": "kV_vDjlB7NFe",
        "outputId": "d7e7cd14-f9a4-473f-86ca-27f9dd99c105",
        "colab": {
          "base_uri": "https://localhost:8080/",
          "height": 527
        }
      },
      "source": [
        "interpreter = tf.lite.Interpreter(model_path=\"albert_lower_lr_sst_seq_128.tflite\")\n",
        "interpreter.allocate_tensors()\n",
        "interpreter.get_input_details()"
      ],
      "execution_count": 26,
      "outputs": [
        {
          "output_type": "execute_result",
          "data": {
            "text/plain": [
              "[{'dtype': numpy.int32,\n",
              "  'index': 0,\n",
              "  'name': 'serving_default_input_type_ids:0',\n",
              "  'quantization': (0.0, 0),\n",
              "  'quantization_parameters': {'quantized_dimension': 0,\n",
              "   'scales': array([], dtype=float32),\n",
              "   'zero_points': array([], dtype=int32)},\n",
              "  'shape': array([  1, 128], dtype=int32),\n",
              "  'shape_signature': array([ -1, 128], dtype=int32),\n",
              "  'sparsity_parameters': {}},\n",
              " {'dtype': numpy.int32,\n",
              "  'index': 1,\n",
              "  'name': 'serving_default_input_mask:0',\n",
              "  'quantization': (0.0, 0),\n",
              "  'quantization_parameters': {'quantized_dimension': 0,\n",
              "   'scales': array([], dtype=float32),\n",
              "   'zero_points': array([], dtype=int32)},\n",
              "  'shape': array([  1, 128], dtype=int32),\n",
              "  'shape_signature': array([ -1, 128], dtype=int32),\n",
              "  'sparsity_parameters': {}},\n",
              " {'dtype': numpy.int32,\n",
              "  'index': 2,\n",
              "  'name': 'serving_default_input_word_ids:0',\n",
              "  'quantization': (0.0, 0),\n",
              "  'quantization_parameters': {'quantized_dimension': 0,\n",
              "   'scales': array([], dtype=float32),\n",
              "   'zero_points': array([], dtype=int32)},\n",
              "  'shape': array([  1, 128], dtype=int32),\n",
              "  'shape_signature': array([ -1, 128], dtype=int32),\n",
              "  'sparsity_parameters': {}}]"
            ]
          },
          "metadata": {
            "tags": []
          },
          "execution_count": 26
        }
      ]
    },
    {
      "cell_type": "code",
      "metadata": {
        "id": "cFI02Z2y8AuS"
      },
      "source": [
        "sample_input_index = np.expand_dims(val_features_ids[5], 0).astype(np.int32)\n",
        "sample_masks_index = np.expand_dims(val_features_masks[5], 0).astype(np.int32)\n",
        "sample_segment_index = np.expand_dims(val_features_segments[5], 0).astype(np.int32)\n",
        "\n",
        "input_tensors = [sample_input_index, sample_masks_index, sample_segment_index]"
      ],
      "execution_count": 28,
      "outputs": []
    },
    {
      "cell_type": "code",
      "metadata": {
        "id": "1sfvart67ELs",
        "outputId": "7f2723a5-f38e-49df-d8c3-3caea013517d",
        "colab": {
          "base_uri": "https://localhost:8080/",
          "height": 34
        }
      },
      "source": [
        "bert_input_index = interpreter.get_input_details()[0][\"index\"]\n",
        "bert_input_masks_index = interpreter.get_input_details()[1][\"index\"]\n",
        "bert_input_segment_index = interpreter.get_input_details()[2][\"index\"]\n",
        "output_index = interpreter.get_output_details()[0][\"index\"]\n",
        "\n",
        "interpreter.set_tensor(bert_input_index, input_tensors[0])\n",
        "interpreter.set_tensor(bert_input_masks_index, input_tensors[1])\n",
        "interpreter.set_tensor(bert_input_segment_index, input_tensors[2])\n",
        "interpreter.invoke()\n",
        "prediction = interpreter.tensor(output_index)\n",
        "print(prediction()[0]) # if prediction > 0.5 then class = 1 else class = 0"
      ],
      "execution_count": 29,
      "outputs": [
        {
          "output_type": "stream",
          "text": [
            "[0.24137583]\n"
          ],
          "name": "stdout"
        }
      ]
    },
    {
      "cell_type": "markdown",
      "metadata": {
        "id": "eUn-253jsLSs"
      },
      "source": [
        "## Prepare TensorFlow Dataset and Calculate Validation Accuracy"
      ]
    },
    {
      "cell_type": "code",
      "metadata": {
        "id": "mRJXSDVM9sSw"
      },
      "source": [
        "# Let's convert the data type of the validation features from int64 to int32\n",
        "val_features_ids = val_features_ids.astype(np.int32)\n",
        "val_features_masks = val_features_masks.astype(np.int32)\n",
        "val_features_segments = val_features_segments.astype(np.int32)\n",
        "\n",
        "# Create TensorFlow dataset\n",
        "val_ds = (\n",
        "    tf.data.Dataset.from_tensor_slices((val_features_ids, val_features_masks, val_features_segments, valid_sentiments))\n",
        "    .batch(1)\n",
        "    .cache()\n",
        "    .prefetch(tf.data.experimental.AUTOTUNE)\n",
        ")"
      ],
      "execution_count": 22,
      "outputs": []
    },
    {
      "cell_type": "code",
      "metadata": {
        "id": "6pdLUaLv9OsR"
      },
      "source": [
        "def get_predictions(interpreter):\n",
        "    predictions = []\n",
        "    bert_input_index = interpreter.get_input_details()[0][\"index\"]\n",
        "    bert_input_masks_index = interpreter.get_input_details()[1][\"index\"]\n",
        "    bert_input_segment_index = interpreter.get_input_details()[2][\"index\"]\n",
        "    output_index = interpreter.get_output_details()[0][\"index\"]\n",
        "\n",
        "    for (i, features) in enumerate(val_ds):\n",
        "        log_steps = 100\n",
        "        tf.compat.v1.logging.log_every_n(tf.compat.v1.logging.INFO,\n",
        "                                       'Processing example: #%d', log_steps, i)\n",
        "        # Run inference\n",
        "        interpreter.set_tensor(bert_input_index, features[0])\n",
        "        interpreter.set_tensor(bert_input_masks_index, features[1])\n",
        "        interpreter.set_tensor(bert_input_segment_index, features[2])\n",
        "        interpreter.invoke()\n",
        "\n",
        "        # Parse the prediction\n",
        "        prediction = interpreter.tensor(output_index)()[0]\n",
        "        if prediction > 0.5:\n",
        "            prediction = 1\n",
        "        else:\n",
        "            prediction = 0\n",
        "        \n",
        "        predictions.append(prediction)\n",
        "\n",
        "    return predictions"
      ],
      "execution_count": 23,
      "outputs": []
    },
    {
      "cell_type": "code",
      "metadata": {
        "id": "ijeDrE3e_Fw_",
        "outputId": "0d579e5c-46c0-46cc-afc3-f5d853576947",
        "colab": {
          "base_uri": "https://localhost:8080/",
          "height": 187
        }
      },
      "source": [
        "interpreter = tf.lite.Interpreter(model_path=\"albert_lower_lr_sst_seq_128.tflite\")\n",
        "interpreter.allocate_tensors()\n",
        "predictions = get_predictions(interpreter)\n",
        "accuracy = accuracy_score(valid_sentiments, predictions)\n",
        "print(\"Accuracy: {}%\".format(accuracy * 100.))"
      ],
      "execution_count": 24,
      "outputs": [
        {
          "output_type": "stream",
          "text": [
            "INFO:tensorflow:Processing example: #0\n",
            "INFO:tensorflow:Processing example: #100\n",
            "INFO:tensorflow:Processing example: #200\n",
            "INFO:tensorflow:Processing example: #300\n",
            "INFO:tensorflow:Processing example: #400\n",
            "INFO:tensorflow:Processing example: #500\n",
            "INFO:tensorflow:Processing example: #600\n",
            "INFO:tensorflow:Processing example: #700\n",
            "INFO:tensorflow:Processing example: #800\n",
            "Accuracy: 49.08256880733945%\n"
          ],
          "name": "stdout"
        }
      ]
    }
  ]
}