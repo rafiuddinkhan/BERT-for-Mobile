{
  "nbformat": 4,
  "nbformat_minor": 0,
  "metadata": {
    "kernelspec": {
      "display_name": "Python 3",
      "language": "python",
      "name": "python3"
    },
    "language_info": {
      "codemirror_mode": {
        "name": "ipython",
        "version": 3
      },
      "file_extension": ".py",
      "mimetype": "text/x-python",
      "name": "python",
      "nbconvert_exporter": "python",
      "pygments_lexer": "ipython3",
      "version": "3.7.6"
    },
    "papermill": {
      "duration": 512.834521,
      "end_time": "2020-09-28T05:36:33.305993",
      "environment_variables": {},
      "exception": null,
      "input_path": "__notebook__.ipynb",
      "output_path": "__notebook__.ipynb",
      "parameters": {},
      "start_time": "2020-09-28T05:28:00.471472",
      "version": "2.1.0"
    },
    "widgets": {
      "application/vnd.jupyter.widget-state+json": {}
    },
    "colab": {
      "name": "DistilBERT_SST-2_TPU.ipynb",
      "provenance": []
    }
  },
  "cells": [
    {
      "cell_type": "markdown",
      "metadata": {
        "papermill": {
          "duration": 0.022197,
          "end_time": "2020-09-28T05:28:06.158636",
          "exception": false,
          "start_time": "2020-09-28T05:28:06.136439",
          "status": "completed"
        },
        "tags": [],
        "id": "kksfU40wVBHe"
      },
      "source": [
        "*This notebook is adapted from [here](https://github.com/dipanjanS/deep_transfer_learning_nlp_dhs2019/blob/master/notebooks/6%20-%20Transformers%20-%20DistilBERT.ipynb). The purpose of this notebook is to show how to convert a custom DistilBERT-based model to TensorFlow Lite.* This notebook should be executed as a [Kaggle Kernel](https://www.kaggle.com/spsayakpaul/distilbert-sst-2) with a TPU accelerator. "
      ]
    },
    {
      "cell_type": "code",
      "metadata": {
        "execution": {
          "iopub.execute_input": "2020-09-28T05:28:06.207717Z",
          "iopub.status.busy": "2020-09-28T05:28:06.206860Z",
          "iopub.status.idle": "2020-09-28T05:28:10.428133Z",
          "shell.execute_reply": "2020-09-28T05:28:10.427285Z"
        },
        "papermill": {
          "duration": 4.248051,
          "end_time": "2020-09-28T05:28:10.428283",
          "exception": false,
          "start_time": "2020-09-28T05:28:06.180232",
          "status": "completed"
        },
        "tags": [],
        "id": "4pjOdzzAVBHf"
      },
      "source": [
        "# Reference - https://www.kaggle.com/docs/tpu\n",
        "from kaggle_datasets import KaggleDatasets\n",
        "GCS_DS_PATH = KaggleDatasets().get_gcs_path()"
      ],
      "execution_count": null,
      "outputs": []
    },
    {
      "cell_type": "code",
      "metadata": {
        "_cell_guid": "b1076dfc-b9ad-4769-8c92-a6c4dae69d19",
        "_uuid": "8f2839f25d086af736a60e9eeb907d3b93b6e0e5",
        "execution": {
          "iopub.execute_input": "2020-09-28T05:28:10.472339Z",
          "iopub.status.busy": "2020-09-28T05:28:10.471399Z",
          "iopub.status.idle": "2020-09-28T05:28:18.163646Z",
          "shell.execute_reply": "2020-09-28T05:28:18.162861Z"
        },
        "papermill": {
          "duration": 7.716425,
          "end_time": "2020-09-28T05:28:18.163816",
          "exception": false,
          "start_time": "2020-09-28T05:28:10.447391",
          "status": "completed"
        },
        "tags": [],
        "id": "LaoG0hH0VBHp",
        "outputId": "bfc3db08-15bf-4de2-c195-be4e33f33365"
      },
      "source": [
        "import tensorflow as tf\n",
        "print(tf.__version__)"
      ],
      "execution_count": null,
      "outputs": [
        {
          "output_type": "stream",
          "text": [
            "2.2.0\n"
          ],
          "name": "stdout"
        }
      ]
    },
    {
      "cell_type": "code",
      "metadata": {
        "execution": {
          "iopub.execute_input": "2020-09-28T05:28:18.320820Z",
          "iopub.status.busy": "2020-09-28T05:28:18.265608Z",
          "iopub.status.idle": "2020-09-28T05:28:23.046309Z",
          "shell.execute_reply": "2020-09-28T05:28:23.047378Z"
        },
        "papermill": {
          "duration": 4.861894,
          "end_time": "2020-09-28T05:28:23.047602",
          "exception": false,
          "start_time": "2020-09-28T05:28:18.185708",
          "status": "completed"
        },
        "tags": [],
        "id": "pVetFv3vVBHx"
      },
      "source": [
        "# Configure TPU\n",
        "# detect and init the TPU\n",
        "tpu = tf.distribute.cluster_resolver.TPUClusterResolver()\n",
        "tf.config.experimental_connect_to_cluster(tpu)\n",
        "tf.tpu.experimental.initialize_tpu_system(tpu)\n",
        "\n",
        "\n",
        "# instantiate a distribution strategy\n",
        "tpu_strategy = tf.distribute.experimental.TPUStrategy(tpu)\n",
        "\n",
        "BATCH_SIZE = 32 * tpu_strategy.num_replicas_in_sync"
      ],
      "execution_count": null,
      "outputs": []
    },
    {
      "cell_type": "code",
      "metadata": {
        "_cell_guid": "79c7e3d0-c299-4dcb-8224-4455121ee9b0",
        "_uuid": "d629ff2d2480ee46fbb7e2d37f6b5fab8052498a",
        "execution": {
          "iopub.execute_input": "2020-09-28T05:28:23.098566Z",
          "iopub.status.busy": "2020-09-28T05:28:23.097750Z",
          "iopub.status.idle": "2020-09-28T05:28:26.774646Z",
          "shell.execute_reply": "2020-09-28T05:28:26.773937Z"
        },
        "papermill": {
          "duration": 3.70723,
          "end_time": "2020-09-28T05:28:26.774811",
          "exception": false,
          "start_time": "2020-09-28T05:28:23.067581",
          "status": "completed"
        },
        "tags": [],
        "id": "bIABGjxyVBH1",
        "outputId": "a9e7d65b-1ea5-412c-8032-a114dae5ff79"
      },
      "source": [
        "import os\n",
        "import numpy as np\n",
        "import pandas as pd\n",
        "import transformers\n",
        "import matplotlib.pyplot as plt\n",
        "\n",
        "%matplotlib inline\n",
        "\n",
        "# fix random seed for reproducibility\n",
        "seed = 42\n",
        "np.random.seed(seed)\n",
        "tf.random.set_seed(seed)\n",
        "\n",
        "print(\"TF Version: \", tf.__version__)\n",
        "print(\"Eager mode: \", tf.executing_eagerly())"
      ],
      "execution_count": null,
      "outputs": [
        {
          "output_type": "stream",
          "text": [
            "\u001b[34m\u001b[1mwandb\u001b[0m: \u001b[33mWARNING\u001b[0m W&B installed but not logged in.  Run `wandb login` or set the WANDB_API_KEY env variable.\n"
          ],
          "name": "stderr"
        },
        {
          "output_type": "stream",
          "text": [
            "TF Version:  2.2.0\n",
            "Eager mode:  True\n"
          ],
          "name": "stdout"
        }
      ]
    },
    {
      "cell_type": "code",
      "metadata": {
        "execution": {
          "iopub.execute_input": "2020-09-28T05:28:26.822572Z",
          "iopub.status.busy": "2020-09-28T05:28:26.821834Z",
          "iopub.status.idle": "2020-09-28T05:28:28.782861Z",
          "shell.execute_reply": "2020-09-28T05:28:28.782104Z"
        },
        "papermill": {
          "duration": 1.988009,
          "end_time": "2020-09-28T05:28:28.783028",
          "exception": false,
          "start_time": "2020-09-28T05:28:26.795019",
          "status": "completed"
        },
        "tags": [],
        "id": "cRRtQWebVBH6",
        "outputId": "b493d474-39fd-4b65-f564-4762f4fca038"
      },
      "source": [
        "data_dir = tf.keras.utils.get_file(\n",
        "      fname='SST-2.zip',\n",
        "      origin='https://firebasestorage.googleapis.com/v0/b/mtl-sentence-representations.appspot.com/o/data%2FSST-2.zip?alt=media&token=aabc5f6b-e466-44a2-b9b4-cf6337f84ac8',\n",
        "      extract=True)\n",
        "data_dir = os.path.join(os.path.dirname(data_dir), 'SST-2')"
      ],
      "execution_count": null,
      "outputs": [
        {
          "output_type": "stream",
          "text": [
            "Downloading data from https://firebasestorage.googleapis.com/v0/b/mtl-sentence-representations.appspot.com/o/data%2FSST-2.zip?alt=media&token=aabc5f6b-e466-44a2-b9b4-cf6337f84ac8\n",
            "7446528/7439277 [==============================] - 0s 0us/step\n"
          ],
          "name": "stdout"
        }
      ]
    },
    {
      "cell_type": "code",
      "metadata": {
        "execution": {
          "iopub.execute_input": "2020-09-28T05:28:28.841440Z",
          "iopub.status.busy": "2020-09-28T05:28:28.840311Z",
          "iopub.status.idle": "2020-09-28T05:28:28.844653Z",
          "shell.execute_reply": "2020-09-28T05:28:28.843969Z"
        },
        "papermill": {
          "duration": 0.036813,
          "end_time": "2020-09-28T05:28:28.844824",
          "exception": false,
          "start_time": "2020-09-28T05:28:28.808011",
          "status": "completed"
        },
        "tags": [],
        "id": "OGLcqLH1VBH-"
      },
      "source": [
        "train = os.path.join(data_dir, \"train.tsv\")\n",
        "valid = os.path.join(data_dir, \"dev.tsv\")\n",
        "test = os.path.join(data_dir, \"test.tsv\")"
      ],
      "execution_count": null,
      "outputs": []
    },
    {
      "cell_type": "code",
      "metadata": {
        "execution": {
          "iopub.execute_input": "2020-09-28T05:28:28.896481Z",
          "iopub.status.busy": "2020-09-28T05:28:28.895649Z",
          "iopub.status.idle": "2020-09-28T05:28:29.003490Z",
          "shell.execute_reply": "2020-09-28T05:28:29.002820Z"
        },
        "papermill": {
          "duration": 0.136388,
          "end_time": "2020-09-28T05:28:29.003663",
          "exception": false,
          "start_time": "2020-09-28T05:28:28.867275",
          "status": "completed"
        },
        "tags": [],
        "id": "vYzJJ0PqVBID"
      },
      "source": [
        "train_dataset = pd.read_csv(train, sep='\\t')\n",
        "valid_dataset = pd.read_csv(valid, sep='\\t')\n",
        "test_dataset = pd.read_csv(test, sep='\\t')"
      ],
      "execution_count": null,
      "outputs": []
    },
    {
      "cell_type": "code",
      "metadata": {
        "execution": {
          "iopub.execute_input": "2020-09-28T05:28:29.075306Z",
          "iopub.status.busy": "2020-09-28T05:28:29.063269Z",
          "iopub.status.idle": "2020-09-28T05:28:29.080043Z",
          "shell.execute_reply": "2020-09-28T05:28:29.078942Z"
        },
        "papermill": {
          "duration": 0.054193,
          "end_time": "2020-09-28T05:28:29.080242",
          "exception": false,
          "start_time": "2020-09-28T05:28:29.026049",
          "status": "completed"
        },
        "tags": [],
        "id": "lsTb-cIzVBIQ",
        "outputId": "2720708c-7713-4384-de25-c29eaacd9ed4"
      },
      "source": [
        "train_dataset.info()"
      ],
      "execution_count": null,
      "outputs": [
        {
          "output_type": "stream",
          "text": [
            "<class 'pandas.core.frame.DataFrame'>\n",
            "RangeIndex: 67349 entries, 0 to 67348\n",
            "Data columns (total 2 columns):\n",
            " #   Column    Non-Null Count  Dtype \n",
            "---  ------    --------------  ----- \n",
            " 0   sentence  67349 non-null  object\n",
            " 1   label     67349 non-null  int64 \n",
            "dtypes: int64(1), object(1)\n",
            "memory usage: 1.0+ MB\n"
          ],
          "name": "stdout"
        }
      ]
    },
    {
      "cell_type": "code",
      "metadata": {
        "execution": {
          "iopub.execute_input": "2020-09-28T05:28:29.147848Z",
          "iopub.status.busy": "2020-09-28T05:28:29.146866Z",
          "iopub.status.idle": "2020-09-28T05:28:29.152065Z",
          "shell.execute_reply": "2020-09-28T05:28:29.151355Z"
        },
        "papermill": {
          "duration": 0.040886,
          "end_time": "2020-09-28T05:28:29.152200",
          "exception": false,
          "start_time": "2020-09-28T05:28:29.111314",
          "status": "completed"
        },
        "tags": [],
        "id": "a63oe6EGVBIU",
        "outputId": "3ebdbed1-c2ac-46b2-ff78-6235d97c98be"
      },
      "source": [
        "valid_dataset.info()"
      ],
      "execution_count": null,
      "outputs": [
        {
          "output_type": "stream",
          "text": [
            "<class 'pandas.core.frame.DataFrame'>\n",
            "RangeIndex: 872 entries, 0 to 871\n",
            "Data columns (total 2 columns):\n",
            " #   Column    Non-Null Count  Dtype \n",
            "---  ------    --------------  ----- \n",
            " 0   sentence  872 non-null    object\n",
            " 1   label     872 non-null    int64 \n",
            "dtypes: int64(1), object(1)\n",
            "memory usage: 13.8+ KB\n"
          ],
          "name": "stdout"
        }
      ]
    },
    {
      "cell_type": "code",
      "metadata": {
        "execution": {
          "iopub.execute_input": "2020-09-28T05:28:29.219832Z",
          "iopub.status.busy": "2020-09-28T05:28:29.218877Z",
          "iopub.status.idle": "2020-09-28T05:28:29.230084Z",
          "shell.execute_reply": "2020-09-28T05:28:29.229262Z"
        },
        "papermill": {
          "duration": 0.051312,
          "end_time": "2020-09-28T05:28:29.230294",
          "exception": false,
          "start_time": "2020-09-28T05:28:29.178982",
          "status": "completed"
        },
        "tags": [],
        "id": "NNAeF380VBIX",
        "outputId": "dc3b028b-af67-441c-ebb3-25c709a21c75"
      },
      "source": [
        "train_dataset.head()"
      ],
      "execution_count": null,
      "outputs": [
        {
          "output_type": "execute_result",
          "data": {
            "text/html": [
              "<div>\n",
              "<style scoped>\n",
              "    .dataframe tbody tr th:only-of-type {\n",
              "        vertical-align: middle;\n",
              "    }\n",
              "\n",
              "    .dataframe tbody tr th {\n",
              "        vertical-align: top;\n",
              "    }\n",
              "\n",
              "    .dataframe thead th {\n",
              "        text-align: right;\n",
              "    }\n",
              "</style>\n",
              "<table border=\"1\" class=\"dataframe\">\n",
              "  <thead>\n",
              "    <tr style=\"text-align: right;\">\n",
              "      <th></th>\n",
              "      <th>sentence</th>\n",
              "      <th>label</th>\n",
              "    </tr>\n",
              "  </thead>\n",
              "  <tbody>\n",
              "    <tr>\n",
              "      <th>0</th>\n",
              "      <td>hide new secretions from the parental units</td>\n",
              "      <td>0</td>\n",
              "    </tr>\n",
              "    <tr>\n",
              "      <th>1</th>\n",
              "      <td>contains no wit , only labored gags</td>\n",
              "      <td>0</td>\n",
              "    </tr>\n",
              "    <tr>\n",
              "      <th>2</th>\n",
              "      <td>that loves its characters and communicates som...</td>\n",
              "      <td>1</td>\n",
              "    </tr>\n",
              "    <tr>\n",
              "      <th>3</th>\n",
              "      <td>remains utterly satisfied to remain the same t...</td>\n",
              "      <td>0</td>\n",
              "    </tr>\n",
              "    <tr>\n",
              "      <th>4</th>\n",
              "      <td>on the worst revenge-of-the-nerds clichés the ...</td>\n",
              "      <td>0</td>\n",
              "    </tr>\n",
              "  </tbody>\n",
              "</table>\n",
              "</div>"
            ],
            "text/plain": [
              "                                            sentence  label\n",
              "0       hide new secretions from the parental units       0\n",
              "1               contains no wit , only labored gags       0\n",
              "2  that loves its characters and communicates som...      1\n",
              "3  remains utterly satisfied to remain the same t...      0\n",
              "4  on the worst revenge-of-the-nerds clichés the ...      0"
            ]
          },
          "metadata": {
            "tags": []
          },
          "execution_count": 10
        }
      ]
    },
    {
      "cell_type": "code",
      "metadata": {
        "execution": {
          "iopub.execute_input": "2020-09-28T05:28:29.295852Z",
          "iopub.status.busy": "2020-09-28T05:28:29.294756Z",
          "iopub.status.idle": "2020-09-28T05:28:29.299837Z",
          "shell.execute_reply": "2020-09-28T05:28:29.299171Z"
        },
        "papermill": {
          "duration": 0.044032,
          "end_time": "2020-09-28T05:28:29.299963",
          "exception": false,
          "start_time": "2020-09-28T05:28:29.255931",
          "status": "completed"
        },
        "tags": [],
        "id": "fnFGnsW1VBIc",
        "outputId": "1c93a539-18d8-4e23-da6f-19fdc63394f4"
      },
      "source": [
        "train_reviews = train_dataset['sentence'].values\n",
        "train_sentiments = train_dataset['label'].values\n",
        "\n",
        "valid_reviews = valid_dataset['sentence'].values\n",
        "valid_sentiments = valid_dataset['label'].values\n",
        "\n",
        "test_reviews = test_dataset['sentence'].values\n",
        "\n",
        "train_reviews.shape, valid_reviews.shape, test_reviews.shape"
      ],
      "execution_count": null,
      "outputs": [
        {
          "output_type": "execute_result",
          "data": {
            "text/plain": [
              "((67349,), (872,), (1821,))"
            ]
          },
          "metadata": {
            "tags": []
          },
          "execution_count": 11
        }
      ]
    },
    {
      "cell_type": "code",
      "metadata": {
        "execution": {
          "iopub.execute_input": "2020-09-28T05:28:29.356563Z",
          "iopub.status.busy": "2020-09-28T05:28:29.355809Z",
          "iopub.status.idle": "2020-09-28T05:28:30.709845Z",
          "shell.execute_reply": "2020-09-28T05:28:30.708459Z"
        },
        "papermill": {
          "duration": 1.385116,
          "end_time": "2020-09-28T05:28:30.710107",
          "exception": false,
          "start_time": "2020-09-28T05:28:29.324991",
          "status": "completed"
        },
        "tags": [],
        "id": "MLmRdpADVBIf",
        "outputId": "61b0cc91-0114-4921-a593-dc466efa4dfa",
        "colab": {
          "referenced_widgets": [
            "4c579399aa8a4f088300531952f85111"
          ]
        }
      },
      "source": [
        "tokenizer = transformers.DistilBertTokenizer.from_pretrained('distilbert-base-uncased')"
      ],
      "execution_count": null,
      "outputs": [
        {
          "output_type": "display_data",
          "data": {
            "application/vnd.jupyter.widget-view+json": {
              "model_id": "4c579399aa8a4f088300531952f85111",
              "version_major": 2,
              "version_minor": 0
            },
            "text/plain": [
              "HBox(children=(FloatProgress(value=0.0, description='Downloading', max=231508.0, style=ProgressStyle(descripti…"
            ]
          },
          "metadata": {
            "tags": []
          }
        },
        {
          "output_type": "stream",
          "text": [
            "\n"
          ],
          "name": "stdout"
        }
      ]
    },
    {
      "cell_type": "code",
      "metadata": {
        "execution": {
          "iopub.execute_input": "2020-09-28T05:28:30.776098Z",
          "iopub.status.busy": "2020-09-28T05:28:30.775343Z",
          "iopub.status.idle": "2020-09-28T05:28:30.779004Z",
          "shell.execute_reply": "2020-09-28T05:28:30.779546Z"
        },
        "papermill": {
          "duration": 0.040337,
          "end_time": "2020-09-28T05:28:30.779725",
          "exception": false,
          "start_time": "2020-09-28T05:28:30.739388",
          "status": "completed"
        },
        "tags": [],
        "id": "5riNc09CVBIi"
      },
      "source": [
        "import tqdm\n",
        "\n",
        "def create_bert_input_features(tokenizer, docs, max_seq_length):\n",
        "    \n",
        "    all_ids, all_masks = [], []\n",
        "    for doc in tqdm.tqdm(docs, desc=\"Converting docs to features\"):\n",
        "        tokens = tokenizer.tokenize(doc)\n",
        "        if len(tokens) > max_seq_length-2:\n",
        "            tokens = tokens[0 : (max_seq_length-2)]\n",
        "        tokens = ['[CLS]'] + tokens + ['[SEP]']\n",
        "        ids = tokenizer.convert_tokens_to_ids(tokens)\n",
        "        masks = [1] * len(ids)\n",
        "        # Zero-pad up to the sequence length.\n",
        "        while len(ids) < max_seq_length:\n",
        "            ids.append(0)\n",
        "            masks.append(0)\n",
        "        all_ids.append(ids)\n",
        "        all_masks.append(masks)\n",
        "    encoded = np.array([all_ids, all_masks])\n",
        "    return encoded"
      ],
      "execution_count": null,
      "outputs": []
    },
    {
      "cell_type": "code",
      "metadata": {
        "execution": {
          "iopub.execute_input": "2020-09-28T05:28:30.840199Z",
          "iopub.status.busy": "2020-09-28T05:28:30.838922Z",
          "iopub.status.idle": "2020-09-28T05:29:26.676185Z",
          "shell.execute_reply": "2020-09-28T05:29:26.675332Z"
        },
        "papermill": {
          "duration": 55.870931,
          "end_time": "2020-09-28T05:29:26.676346",
          "exception": false,
          "start_time": "2020-09-28T05:28:30.805415",
          "status": "completed"
        },
        "tags": [],
        "id": "qhpkJg6hVBIl",
        "outputId": "4418f8ef-3c1a-401c-f521-35cb15cd7bbd"
      },
      "source": [
        "MAX_SEQ_LENGTH = 500\n",
        "\n",
        "train_features_ids, train_features_masks = create_bert_input_features(tokenizer, train_reviews, \n",
        "                                                                      max_seq_length=MAX_SEQ_LENGTH)\n",
        "val_features_ids, val_features_masks = create_bert_input_features(tokenizer, valid_reviews, \n",
        "                                                                  max_seq_length=MAX_SEQ_LENGTH)\n",
        "#test_features = create_bert_input_features(tokenizer, test_reviews, max_seq_length=MAX_SEQ_LENGTH)\n",
        "print('Train Features:', train_features_ids.shape, train_features_masks.shape)\n",
        "print('Val Features:', val_features_ids.shape, val_features_masks.shape)"
      ],
      "execution_count": null,
      "outputs": [
        {
          "output_type": "stream",
          "text": [
            "Converting docs to features: 100%|██████████| 67349/67349 [00:39<00:00, 1684.12it/s]\n",
            "Converting docs to features: 100%|██████████| 872/872 [00:00<00:00, 1045.51it/s]"
          ],
          "name": "stderr"
        },
        {
          "output_type": "stream",
          "text": [
            "Train Features: (67349, 500) (67349, 500)\n",
            "Val Features: (872, 500) (872, 500)\n"
          ],
          "name": "stdout"
        },
        {
          "output_type": "stream",
          "text": [
            "\n"
          ],
          "name": "stderr"
        }
      ]
    },
    {
      "cell_type": "code",
      "metadata": {
        "execution": {
          "iopub.execute_input": "2020-09-28T05:29:28.198673Z",
          "iopub.status.busy": "2020-09-28T05:29:28.196036Z",
          "iopub.status.idle": "2020-09-28T05:29:28.654880Z",
          "shell.execute_reply": "2020-09-28T05:29:28.653990Z"
        },
        "papermill": {
          "duration": 1.811162,
          "end_time": "2020-09-28T05:29:28.655030",
          "exception": false,
          "start_time": "2020-09-28T05:29:26.843868",
          "status": "completed"
        },
        "tags": [],
        "id": "depcYpl7VBIr"
      },
      "source": [
        "# Create TensorFlow datasets for better performance\n",
        "train_ds = (\n",
        "    tf.data.Dataset\n",
        "    .from_tensor_slices(((train_features_ids, train_features_masks), train_sentiments))\n",
        "    .shuffle(2048)\n",
        "    .batch(BATCH_SIZE)\n",
        "    .prefetch(tf.data.experimental.AUTOTUNE)\n",
        ")\n",
        "    \n",
        "valid_ds = (\n",
        "    tf.data.Dataset\n",
        "    .from_tensor_slices(((val_features_ids, val_features_masks), valid_sentiments))\n",
        "    .batch(BATCH_SIZE)\n",
        "    .prefetch(tf.data.experimental.AUTOTUNE)\n",
        ")"
      ],
      "execution_count": null,
      "outputs": []
    },
    {
      "cell_type": "code",
      "metadata": {
        "execution": {
          "iopub.execute_input": "2020-09-28T05:29:28.985715Z",
          "iopub.status.busy": "2020-09-28T05:29:28.984945Z",
          "iopub.status.idle": "2020-09-28T05:29:28.988603Z",
          "shell.execute_reply": "2020-09-28T05:29:28.988064Z"
        },
        "papermill": {
          "duration": 0.17816,
          "end_time": "2020-09-28T05:29:28.988747",
          "exception": false,
          "start_time": "2020-09-28T05:29:28.810587",
          "status": "completed"
        },
        "tags": [],
        "id": "x0RAvduDVBIu"
      },
      "source": [
        "def get_training_model():\n",
        "    inp_id = tf.keras.layers.Input(shape=(MAX_SEQ_LENGTH,), dtype='int32', name=\"bert_input_ids\")\n",
        "    inp_mask = tf.keras.layers.Input(shape=(MAX_SEQ_LENGTH,), dtype='int32', name=\"bert_input_masks\")\n",
        "    inputs = [inp_id, inp_mask]\n",
        "\n",
        "    hidden_state = transformers.TFDistilBertModel.from_pretrained('distilbert-base-uncased')(inputs)[0]\n",
        "    pooled_output = hidden_state[:, 0]    \n",
        "    dense1 = tf.keras.layers.Dense(256, activation='relu')(pooled_output)\n",
        "    drop1 = tf.keras.layers.Dropout(0.25)(dense1)\n",
        "    dense2 = tf.keras.layers.Dense(256, activation='relu')(drop1)\n",
        "    drop2 = tf.keras.layers.Dropout(0.25)(dense2)\n",
        "    output = tf.keras.layers.Dense(1, activation='sigmoid')(drop2)\n",
        "\n",
        "\n",
        "    model = tf.keras.Model(inputs=inputs, outputs=output)\n",
        "    model.compile(optimizer=tf.optimizers.Adam(learning_rate=2e-5, \n",
        "                                               epsilon=1e-08), \n",
        "                  loss='binary_crossentropy', metrics=['accuracy'])\n",
        "    return model"
      ],
      "execution_count": null,
      "outputs": []
    },
    {
      "cell_type": "code",
      "metadata": {
        "execution": {
          "iopub.execute_input": "2020-09-28T05:29:29.346352Z",
          "iopub.status.busy": "2020-09-28T05:29:29.345135Z",
          "iopub.status.idle": "2020-09-28T05:35:26.762402Z",
          "shell.execute_reply": "2020-09-28T05:35:26.761580Z"
        },
        "papermill": {
          "duration": 357.603759,
          "end_time": "2020-09-28T05:35:26.762693",
          "exception": false,
          "start_time": "2020-09-28T05:29:29.158934",
          "status": "completed"
        },
        "tags": [],
        "id": "v2TJf9CUVBIx",
        "outputId": "2f62b218-6c30-4fb8-b15f-eab1fb48a530",
        "colab": {
          "referenced_widgets": [
            "a3fd10f5098a4ece8e8f8d8c9ce8032b",
            "7ea20e1f04824e2eb78a93717f671c4b"
          ]
        }
      },
      "source": [
        "# Compile the model with TPU Strategy\n",
        "with tpu_strategy.scope():\n",
        "    model = get_training_model()\n",
        "    \n",
        "# Train the model\n",
        "model.fit(train_ds, \n",
        "    validation_data=valid_ds,\n",
        "    epochs=3)"
      ],
      "execution_count": null,
      "outputs": [
        {
          "output_type": "display_data",
          "data": {
            "application/vnd.jupyter.widget-view+json": {
              "model_id": "a3fd10f5098a4ece8e8f8d8c9ce8032b",
              "version_major": 2,
              "version_minor": 0
            },
            "text/plain": [
              "HBox(children=(FloatProgress(value=0.0, description='Downloading', max=442.0, style=ProgressStyle(description_…"
            ]
          },
          "metadata": {
            "tags": []
          }
        },
        {
          "output_type": "stream",
          "text": [
            "\n"
          ],
          "name": "stdout"
        },
        {
          "output_type": "display_data",
          "data": {
            "application/vnd.jupyter.widget-view+json": {
              "model_id": "7ea20e1f04824e2eb78a93717f671c4b",
              "version_major": 2,
              "version_minor": 0
            },
            "text/plain": [
              "HBox(children=(FloatProgress(value=0.0, description='Downloading', max=363423424.0, style=ProgressStyle(descri…"
            ]
          },
          "metadata": {
            "tags": []
          }
        },
        {
          "output_type": "stream",
          "text": [
            "\n",
            "Epoch 1/3\n",
            "264/264 [==============================] - 112s 425ms/step - loss: 0.2887 - accuracy: 0.8758 - val_loss: 0.2545 - val_accuracy: 0.9037\n",
            "Epoch 2/3\n",
            "264/264 [==============================] - 88s 334ms/step - loss: 0.1573 - accuracy: 0.9424 - val_loss: 0.2812 - val_accuracy: 0.9060\n",
            "Epoch 3/3\n",
            "264/264 [==============================] - 88s 335ms/step - loss: 0.1149 - accuracy: 0.9593 - val_loss: 0.3107 - val_accuracy: 0.8979\n"
          ],
          "name": "stdout"
        },
        {
          "output_type": "execute_result",
          "data": {
            "text/plain": [
              "<tensorflow.python.keras.callbacks.History at 0x7f0ca0d25890>"
            ]
          },
          "metadata": {
            "tags": []
          },
          "execution_count": 17
        }
      ]
    },
    {
      "cell_type": "markdown",
      "metadata": {
        "papermill": {
          "duration": 0.528197,
          "end_time": "2020-09-28T05:35:27.714442",
          "exception": false,
          "start_time": "2020-09-28T05:35:27.186245",
          "status": "completed"
        },
        "tags": [],
        "id": "DFzgQaUDVBI0"
      },
      "source": [
        "Slightly overfits. With more careful hyperparameter tuning this may be prevented. "
      ]
    },
    {
      "cell_type": "code",
      "metadata": {
        "execution": {
          "iopub.execute_input": "2020-09-28T05:35:28.602996Z",
          "iopub.status.busy": "2020-09-28T05:35:28.601806Z",
          "iopub.status.idle": "2020-09-28T05:35:29.899523Z",
          "shell.execute_reply": "2020-09-28T05:35:29.898248Z"
        },
        "papermill": {
          "duration": 1.758222,
          "end_time": "2020-09-28T05:35:29.899710",
          "exception": false,
          "start_time": "2020-09-28T05:35:28.141488",
          "status": "completed"
        },
        "tags": [],
        "id": "lg2hyVa6VBI0"
      },
      "source": [
        "model.save_weights('distillbert_ft_wts.h5')"
      ],
      "execution_count": null,
      "outputs": []
    },
    {
      "cell_type": "markdown",
      "metadata": {
        "papermill": {
          "duration": 0.441181,
          "end_time": "2020-09-28T05:35:30.776951",
          "exception": false,
          "start_time": "2020-09-28T05:35:30.335770",
          "status": "completed"
        },
        "tags": [],
        "id": "HeR_7MYoVBI3"
      },
      "source": [
        "Reference - https://github.com/huggingface/tflite-android-transformers/blob/master/models_generation/distilbert.py"
      ]
    },
    {
      "cell_type": "markdown",
      "metadata": {
        "papermill": {
          "duration": 0.434881,
          "end_time": "2020-09-28T05:35:31.631463",
          "exception": false,
          "start_time": "2020-09-28T05:35:31.196582",
          "status": "completed"
        },
        "tags": [],
        "id": "IDnlyc-zVBI3"
      },
      "source": [
        "### Dynamic-range"
      ]
    },
    {
      "cell_type": "code",
      "metadata": {
        "execution": {
          "iopub.execute_input": "2020-09-28T05:35:32.525334Z",
          "iopub.status.busy": "2020-09-28T05:35:32.521111Z",
          "iopub.status.idle": "2020-09-28T05:35:59.084082Z",
          "shell.execute_reply": "2020-09-28T05:35:59.083419Z"
        },
        "papermill": {
          "duration": 27.013903,
          "end_time": "2020-09-28T05:35:59.084241",
          "exception": false,
          "start_time": "2020-09-28T05:35:32.070338",
          "status": "completed"
        },
        "tags": [],
        "id": "J8Uxa69tVBI7",
        "outputId": "018c4d1c-a294-458b-abf3-1c9a4f63af71"
      },
      "source": [
        "converter = tf.lite.TFLiteConverter.from_keras_model(model)\n",
        "converter.target_spec.supported_ops = [tf.lite.OpsSet.TFLITE_BUILTINS, \n",
        "                                       tf.lite.OpsSet.SELECT_TF_OPS]\n",
        "converter.optimizations = [tf.lite.Optimize.DEFAULT]\n",
        "tflite_model = converter.convert()\n",
        "open(\"distilbert_sst_tflite.tflite\", \"wb\").write(tflite_model)"
      ],
      "execution_count": null,
      "outputs": [
        {
          "output_type": "execute_result",
          "data": {
            "text/plain": [
              "68234624"
            ]
          },
          "metadata": {
            "tags": []
          },
          "execution_count": 19
        }
      ]
    },
    {
      "cell_type": "code",
      "metadata": {
        "execution": {
          "iopub.execute_input": "2020-09-28T05:35:59.943727Z",
          "iopub.status.busy": "2020-09-28T05:35:59.942993Z",
          "iopub.status.idle": "2020-09-28T05:36:00.778429Z",
          "shell.execute_reply": "2020-09-28T05:36:00.777667Z"
        },
        "papermill": {
          "duration": 1.265384,
          "end_time": "2020-09-28T05:36:00.778571",
          "exception": false,
          "start_time": "2020-09-28T05:35:59.513187",
          "status": "completed"
        },
        "tags": [],
        "id": "_8HbjXcAVBI_",
        "outputId": "25d54b07-dc3c-4330-8079-9f93ed26fad3"
      },
      "source": [
        "!ls -lh distilbert_sst_tflite.tflite"
      ],
      "execution_count": null,
      "outputs": [
        {
          "output_type": "stream",
          "text": [
            "-rw-r--r-- 1 root root 66M Sep 28 05:35 distilbert_sst_tflite.tflite\r\n"
          ],
          "name": "stdout"
        }
      ]
    },
    {
      "cell_type": "markdown",
      "metadata": {
        "papermill": {
          "duration": 0.479937,
          "end_time": "2020-09-28T05:36:01.721741",
          "exception": false,
          "start_time": "2020-09-28T05:36:01.241804",
          "status": "completed"
        },
        "tags": [],
        "id": "pXoOPCEuVBJC"
      },
      "source": [
        "### Float16\n"
      ]
    },
    {
      "cell_type": "code",
      "metadata": {
        "execution": {
          "iopub.execute_input": "2020-09-28T05:36:02.578405Z",
          "iopub.status.busy": "2020-09-28T05:36:02.577244Z",
          "iopub.status.idle": "2020-09-28T05:36:28.288254Z",
          "shell.execute_reply": "2020-09-28T05:36:28.287209Z"
        },
        "papermill": {
          "duration": 26.146638,
          "end_time": "2020-09-28T05:36:28.288468",
          "exception": false,
          "start_time": "2020-09-28T05:36:02.141830",
          "status": "completed"
        },
        "tags": [],
        "id": "ziSgJddzVBJD",
        "outputId": "0336f3b0-0935-4454-a684-f2a003cb99de"
      },
      "source": [
        "converter = tf.lite.TFLiteConverter.from_keras_model(model)\n",
        "converter.target_spec.supported_ops = [tf.lite.OpsSet.TFLITE_BUILTINS, \n",
        "                                       tf.lite.OpsSet.SELECT_TF_OPS]\n",
        "converter.optimizations = [tf.lite.Optimize.DEFAULT]\n",
        "converter.target_spec.supported_types = [tf.float16]\n",
        "tflite_model = converter.convert()\n",
        "open(\"distilbert_sst_tflite_fp16.tflite\", \"wb\").write(tflite_model)"
      ],
      "execution_count": null,
      "outputs": [
        {
          "output_type": "execute_result",
          "data": {
            "text/plain": [
              "133530416"
            ]
          },
          "metadata": {
            "tags": []
          },
          "execution_count": 21
        }
      ]
    },
    {
      "cell_type": "code",
      "metadata": {
        "execution": {
          "iopub.execute_input": "2020-09-28T05:36:29.204675Z",
          "iopub.status.busy": "2020-09-28T05:36:29.203916Z",
          "iopub.status.idle": "2020-09-28T05:36:30.038537Z",
          "shell.execute_reply": "2020-09-28T05:36:30.039150Z"
        },
        "papermill": {
          "duration": 1.267508,
          "end_time": "2020-09-28T05:36:30.039430",
          "exception": false,
          "start_time": "2020-09-28T05:36:28.771922",
          "status": "completed"
        },
        "tags": [],
        "id": "lYbPE2mEVBJF",
        "outputId": "33f82d5e-8651-4273-b879-d0f9f395797e"
      },
      "source": [
        "!ls -lh distilbert_sst_tflite_fp16.tflite"
      ],
      "execution_count": null,
      "outputs": [
        {
          "output_type": "stream",
          "text": [
            "-rw-r--r-- 1 root root 128M Sep 28 05:36 distilbert_sst_tflite_fp16.tflite\r\n"
          ],
          "name": "stdout"
        }
      ]
    },
    {
      "cell_type": "markdown",
      "metadata": {
        "papermill": {
          "duration": 0.445158,
          "end_time": "2020-09-28T05:36:30.907343",
          "exception": false,
          "start_time": "2020-09-28T05:36:30.462185",
          "status": "completed"
        },
        "tags": [],
        "id": "yXpl7kOlVBJI"
      },
      "source": [
        "### Integer"
      ]
    },
    {
      "cell_type": "code",
      "metadata": {
        "execution": {
          "iopub.execute_input": "2020-09-28T05:36:31.780301Z",
          "iopub.status.busy": "2020-09-28T05:36:31.779171Z",
          "iopub.status.idle": "2020-09-28T05:36:31.782991Z",
          "shell.execute_reply": "2020-09-28T05:36:31.782287Z"
        },
        "papermill": {
          "duration": 0.448736,
          "end_time": "2020-09-28T05:36:31.783128",
          "exception": false,
          "start_time": "2020-09-28T05:36:31.334392",
          "status": "completed"
        },
        "tags": [],
        "id": "PdX89R4MVBJI"
      },
      "source": [
        "# # ==============Representative dataset====================\n",
        "# train_features_ids = train_features_ids.astype(np.int32)\n",
        "# train_features_masks = train_features_masks.astype(np.int32)\n",
        "# train_tf_dataset = tf.data.Dataset.from_tensor_slices((train_features_ids, \n",
        "#     train_features_masks))\n",
        "\n",
        "# def representative_dataset_gen():\n",
        "#     for feature_id, feature_mask in train_tf_dataset.take(10):\n",
        "#         yield [feature_id, feature_mask]\n",
        "\n",
        "# # ==============Conversion====================\n",
        "# converter = tf.lite.TFLiteConverter.from_keras_model(model)\n",
        "# converter.target_spec.supported_ops = [tf.lite.OpsSet.TFLITE_BUILTINS, \n",
        "#                                        tf.lite.OpsSet.SELECT_TF_OPS]\n",
        "# converter.representative_dataset = representative_dataset_gen\n",
        "# converter.optimizations = [tf.lite.Optimize.DEFAULT]\n",
        "# tflite_model = converter.convert()\n",
        "# open(\"distilbert_sst_tflite_int.tflite\", \"wb\").write(tflite_model)"
      ],
      "execution_count": null,
      "outputs": []
    },
    {
      "cell_type": "markdown",
      "metadata": {
        "papermill": {
          "duration": 0.42362,
          "end_time": "2020-09-28T05:36:32.644913",
          "exception": false,
          "start_time": "2020-09-28T05:36:32.221293",
          "status": "completed"
        },
        "tags": [],
        "id": "vGC7QhyaVBJP"
      },
      "source": [
        "***Integer quantization isn't supported currently for this model.*** "
      ]
    }
  ]
}