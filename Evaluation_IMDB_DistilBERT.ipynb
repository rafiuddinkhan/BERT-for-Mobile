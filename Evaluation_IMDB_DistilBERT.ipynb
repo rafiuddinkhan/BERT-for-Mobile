{
  "nbformat": 4,
  "nbformat_minor": 0,
  "metadata": {
    "colab": {
      "name": "Evaluation_SST-2_DistilBERT.ipynb",
      "provenance": [],
      "authorship_tag": "ABX9TyMzNrsLD0xwgtc3Ea5BR+pp",
      "include_colab_link": true
    },
    "kernelspec": {
      "name": "python3",
      "display_name": "Python 3"
    }
  },
  "cells": [
    {
      "cell_type": "markdown",
      "metadata": {
        "id": "view-in-github",
        "colab_type": "text"
      },
      "source": [
        "<a href=\"https://colab.research.google.com/github/sayakpaul/BERT-for-Mobile/blob/master/Evaluation_IMDB_DistilBERT.ipynb\" target=\"_parent\"><img src=\"https://colab.research.google.com/assets/colab-badge.svg\" alt=\"Open In Colab\"/></a>"
      ]
    },
    {
      "cell_type": "code",
      "metadata": {
        "id": "wdF0sY7p4AnT"
      },
      "source": [
        "!wget https://github.com/sayakpaul/BERT-for-Mobile/releases/download/v0.1.0/IMDB_Models.zip\n",
        "!unzip -qq IMDB_Models.zip"
      ],
      "execution_count": null,
      "outputs": []
    },
    {
      "cell_type": "code",
      "metadata": {
        "id": "wNmdSmeP4gz3"
      },
      "source": [
        "!pip install transformers"
      ],
      "execution_count": null,
      "outputs": []
    },
    {
      "cell_type": "code",
      "metadata": {
        "id": "VithT5ml4Q8d",
        "outputId": "794a2b81-dfd0-4608-d6e4-bd3af324ba67",
        "colab": {
          "base_uri": "https://localhost:8080/",
          "height": 34
        }
      },
      "source": [
        "import tensorflow as tf\n",
        "print(tf.__version__)"
      ],
      "execution_count": 1,
      "outputs": [
        {
          "output_type": "stream",
          "text": [
            "2.3.0\n"
          ],
          "name": "stdout"
        }
      ]
    },
    {
      "cell_type": "code",
      "metadata": {
        "id": "cSoSRwv35uXV"
      },
      "source": [
        "import os\n",
        "import numpy as np\n",
        "import pandas as pd\n",
        "import transformers\n",
        "\n",
        "from sklearn.metrics import accuracy_score\n",
        "\n",
        "# fix random seed for reproducibility\n",
        "seed = 42\n",
        "np.random.seed(seed)\n",
        "tf.random.set_seed(seed)"
      ],
      "execution_count": 5,
      "outputs": []
    },
    {
      "cell_type": "code",
      "metadata": {
        "id": "BESTeIN353or",
        "outputId": "4ae86360-46f0-4452-f4f0-30d8c57f2f89",
        "colab": {
          "base_uri": "https://localhost:8080/",
          "height": 170
        }
      },
      "source": [
        "dataset = pd.read_csv(r'https://github.com/dipanjanS/nlp_workshop_dhs18/raw/master/Unit%2011%20-%20Sentiment%20Analysis%20-%20Unsupervised%20Learning/movie_reviews.csv.bz2', compression='bz2')\n",
        "dataset['sentiment'] = [1 if record == 'positive' else 0 for record in dataset['sentiment']]\n",
        "dataset.info()"
      ],
      "execution_count": 6,
      "outputs": [
        {
          "output_type": "stream",
          "text": [
            "<class 'pandas.core.frame.DataFrame'>\n",
            "RangeIndex: 50000 entries, 0 to 49999\n",
            "Data columns (total 2 columns):\n",
            " #   Column     Non-Null Count  Dtype \n",
            "---  ------     --------------  ----- \n",
            " 0   review     50000 non-null  object\n",
            " 1   sentiment  50000 non-null  int64 \n",
            "dtypes: int64(1), object(1)\n",
            "memory usage: 781.4+ KB\n"
          ],
          "name": "stdout"
        }
      ]
    },
    {
      "cell_type": "code",
      "metadata": {
        "id": "2IhK4cCk56C7",
        "outputId": "afc59d5c-be25-47ec-df62-86226f38ca21",
        "colab": {
          "base_uri": "https://localhost:8080/",
          "height": 34
        }
      },
      "source": [
        "reviews = dataset['review'].values\n",
        "sentiments = dataset['sentiment'].values\n",
        "\n",
        "# Taking a small portion to save time\n",
        "val_reviews = reviews [5000:5900]\n",
        "val_sentiments = sentiments [5000:5900]\n",
        "\n",
        "print(val_reviews.shape)"
      ],
      "execution_count": 7,
      "outputs": [
        {
          "output_type": "stream",
          "text": [
            "(900,)\n"
          ],
          "name": "stdout"
        }
      ]
    },
    {
      "cell_type": "code",
      "metadata": {
        "id": "B0nJPhJ86IO1"
      },
      "source": [
        "tokenizer = transformers.DistilBertTokenizer.from_pretrained('distilbert-base-uncased')"
      ],
      "execution_count": 8,
      "outputs": []
    },
    {
      "cell_type": "code",
      "metadata": {
        "id": "nsGqSBi96J-K"
      },
      "source": [
        "import tqdm\n",
        "\n",
        "def create_bert_input_features(tokenizer, docs, max_seq_length):\n",
        "    \n",
        "    all_ids, all_masks = [], []\n",
        "    for doc in tqdm.tqdm(docs, desc=\"Converting docs to features\"):\n",
        "        tokens = tokenizer.tokenize(doc)\n",
        "        if len(tokens) > max_seq_length-2:\n",
        "            tokens = tokens[0 : (max_seq_length-2)]\n",
        "        tokens = ['[CLS]'] + tokens + ['[SEP]']\n",
        "        ids = tokenizer.convert_tokens_to_ids(tokens)\n",
        "        masks = [1] * len(ids)\n",
        "        # Zero-pad up to the sequence length.\n",
        "        while len(ids) < max_seq_length:\n",
        "            ids.append(0)\n",
        "            masks.append(0)\n",
        "        all_ids.append(ids)\n",
        "        all_masks.append(masks)\n",
        "    encoded = np.array([all_ids, all_masks])\n",
        "    return encoded"
      ],
      "execution_count": 9,
      "outputs": []
    },
    {
      "cell_type": "code",
      "metadata": {
        "id": "AF90BdsV6MDp",
        "outputId": "3b608256-9263-4dd2-cc8f-131c8a81c195",
        "colab": {
          "base_uri": "https://localhost:8080/",
          "height": 51
        }
      },
      "source": [
        "MAX_SEQ_LENGTH = 500\n",
        "\n",
        "val_features_ids, val_features_masks = create_bert_input_features(tokenizer, val_reviews, \n",
        "                                                                  max_seq_length=MAX_SEQ_LENGTH)\n",
        "print('Val Features:', val_features_ids.shape, val_features_masks.shape)"
      ],
      "execution_count": 10,
      "outputs": [
        {
          "output_type": "stream",
          "text": [
            "Converting docs to features: 100%|██████████| 900/900 [00:04<00:00, 223.39it/s]\n"
          ],
          "name": "stderr"
        },
        {
          "output_type": "stream",
          "text": [
            "Val Features: (900, 500) (900, 500)\n"
          ],
          "name": "stdout"
        }
      ]
    },
    {
      "cell_type": "code",
      "metadata": {
        "id": "kV_vDjlB7NFe",
        "outputId": "06dd81fa-71c1-4f63-c35f-d98137fcf82f",
        "colab": {
          "base_uri": "https://localhost:8080/",
          "height": 357
        }
      },
      "source": [
        "interpreter = tf.lite.Interpreter(model_path=\"distilbert_imdb_tflite.tflite\")\n",
        "interpreter.allocate_tensors()\n",
        "interpreter.get_input_details()"
      ],
      "execution_count": 11,
      "outputs": [
        {
          "output_type": "execute_result",
          "data": {
            "text/plain": [
              "[{'dtype': numpy.int32,\n",
              "  'index': 0,\n",
              "  'name': 'bert_input_ids',\n",
              "  'quantization': (0.0, 0),\n",
              "  'quantization_parameters': {'quantized_dimension': 0,\n",
              "   'scales': array([], dtype=float32),\n",
              "   'zero_points': array([], dtype=int32)},\n",
              "  'shape': array([  1, 500], dtype=int32),\n",
              "  'shape_signature': array([ -1, 500], dtype=int32),\n",
              "  'sparsity_parameters': {}},\n",
              " {'dtype': numpy.int32,\n",
              "  'index': 1,\n",
              "  'name': 'bert_input_masks',\n",
              "  'quantization': (0.0, 0),\n",
              "  'quantization_parameters': {'quantized_dimension': 0,\n",
              "   'scales': array([], dtype=float32),\n",
              "   'zero_points': array([], dtype=int32)},\n",
              "  'shape': array([  1, 500], dtype=int32),\n",
              "  'shape_signature': array([ -1, 500], dtype=int32),\n",
              "  'sparsity_parameters': {}}]"
            ]
          },
          "metadata": {
            "tags": []
          },
          "execution_count": 11
        }
      ]
    },
    {
      "cell_type": "code",
      "metadata": {
        "id": "cFI02Z2y8AuS"
      },
      "source": [
        "sample_input_index = np.expand_dims(val_features_ids[0], 0).astype(np.int32)\n",
        "sample_masks_index = np.expand_dims(val_features_masks[0], 0).astype(np.int32)"
      ],
      "execution_count": 12,
      "outputs": []
    },
    {
      "cell_type": "code",
      "metadata": {
        "id": "1sfvart67ELs",
        "outputId": "71c2306c-e412-4997-f9ba-18800f76bf25",
        "colab": {
          "base_uri": "https://localhost:8080/",
          "height": 34
        }
      },
      "source": [
        "bert_input_index = interpreter.get_input_details()[0][\"index\"]\n",
        "bert_input_masks_index = interpreter.get_input_details()[1][\"index\"]\n",
        "output_index = interpreter.get_output_details()[0][\"index\"]\n",
        "\n",
        "interpreter.set_tensor(bert_input_index, sample_input_index)\n",
        "interpreter.set_tensor(bert_input_masks_index, sample_masks_index)\n",
        "interpreter.invoke()\n",
        "prediction = interpreter.tensor(output_index)\n",
        "print(prediction()[0]) # if prediction > 0.5 then class = 1 else class = 0"
      ],
      "execution_count": 13,
      "outputs": [
        {
          "output_type": "stream",
          "text": [
            "[0.7358074]\n"
          ],
          "name": "stdout"
        }
      ]
    },
    {
      "cell_type": "code",
      "metadata": {
        "id": "mRJXSDVM9sSw"
      },
      "source": [
        "# Let's convert the data type of the validation features from int64 to int32\n",
        "val_features_ids = val_features_ids.astype(np.int32)\n",
        "val_features_masks = val_features_masks.astype(np.int32)"
      ],
      "execution_count": 14,
      "outputs": []
    },
    {
      "cell_type": "code",
      "metadata": {
        "id": "6pdLUaLv9OsR"
      },
      "source": [
        "def get_predictions(interpreter):\n",
        "    predictions = []\n",
        "    bert_input_index = interpreter.get_input_details()[0][\"index\"]\n",
        "    bert_input_masks_index = interpreter.get_input_details()[1][\"index\"]\n",
        "    output_index = interpreter.get_output_details()[0][\"index\"]\n",
        "\n",
        "    for (i, feature) in enumerate(tqdm.tqdm(val_features_ids)):\n",
        "        # Prepare the inputs\n",
        "        feature = np.expand_dims(feature, 0)\n",
        "        mask = np.expand_dims(val_features_masks[i], 0)\n",
        "\n",
        "        # Run inference\n",
        "        interpreter.set_tensor(bert_input_index, sample_input_index)\n",
        "        interpreter.set_tensor(bert_input_masks_index, sample_masks_index)\n",
        "        interpreter.invoke()\n",
        "\n",
        "        # Parse the prediction\n",
        "        prediction = interpreter.tensor(output_index)()[0]\n",
        "        if prediction > 0.5:\n",
        "            prediction = 1\n",
        "        else:\n",
        "            prediction = 0\n",
        "        \n",
        "        predictions.append(prediction)\n",
        "\n",
        "    return predictions"
      ],
      "execution_count": 15,
      "outputs": []
    },
    {
      "cell_type": "code",
      "metadata": {
        "id": "ijeDrE3e_Fw_",
        "outputId": "4523815b-a7fe-4a87-d770-9e7930d93f34",
        "colab": {
          "base_uri": "https://localhost:8080/",
          "height": 34
        }
      },
      "source": [
        "interpreter = tf.lite.Interpreter(model_path=\"distilbert_imdb_tflite.tflite\")\n",
        "interpreter.allocate_tensors()\n",
        "predictions = get_predictions(interpreter)\n",
        "accuracy = accuracy_score(val_sentiments, predictions)\n",
        "print(\"Accuracy: {}%\".format(accuracy * 100.))"
      ],
      "execution_count": 17,
      "outputs": [
        {
          "output_type": "stream",
          "text": [
            "Accuracy: 51.0%\n"
          ],
          "name": "stdout"
        }
      ]
    },
    {
      "cell_type": "code",
      "metadata": {
        "id": "Qpy7S-DKC8ha",
        "outputId": "6eaec177-b782-4378-9386-e98c2f1a286e",
        "colab": {
          "base_uri": "https://localhost:8080/",
          "height": 51
        }
      },
      "source": [
        "interpreter = tf.lite.Interpreter(model_path=\"distilbert_imdb_tflite_fp16.tflite\")\n",
        "interpreter.allocate_tensors()\n",
        "predictions = get_predictions(interpreter)\n",
        "accuracy = accuracy_score(val_sentiments, predictions)\n",
        "print(\"Accuracy: {}%\".format(accuracy * 100.))"
      ],
      "execution_count": 18,
      "outputs": [
        {
          "output_type": "stream",
          "text": [
            "100%|██████████| 900/900 [17:43<00:00,  1.18s/it]"
          ],
          "name": "stderr"
        },
        {
          "output_type": "stream",
          "text": [
            "Accuracy: 49.0%\n"
          ],
          "name": "stdout"
        },
        {
          "output_type": "stream",
          "text": [
            "\n"
          ],
          "name": "stderr"
        }
      ]
    }
  ]
}