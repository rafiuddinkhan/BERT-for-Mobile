{
  "nbformat": 4,
  "nbformat_minor": 0,
  "metadata": {
    "colab": {
      "name": "Evaluation_SST-2_DistilBERT.ipynb",
      "provenance": [],
      "authorship_tag": "ABX9TyMHwZEu58ZwDTyptGX+E7Zj",
      "include_colab_link": true
    },
    "kernelspec": {
      "name": "python3",
      "display_name": "Python 3"
    },
    "widgets": {
      "application/vnd.jupyter.widget-state+json": {
        "3a4347646bec48f78094a0139987a457": {
          "model_module": "@jupyter-widgets/controls",
          "model_name": "HBoxModel",
          "state": {
            "_view_name": "HBoxView",
            "_dom_classes": [],
            "_model_name": "HBoxModel",
            "_view_module": "@jupyter-widgets/controls",
            "_model_module_version": "1.5.0",
            "_view_count": null,
            "_view_module_version": "1.5.0",
            "box_style": "",
            "layout": "IPY_MODEL_cf5515b268814842b47759d0f6a04a51",
            "_model_module": "@jupyter-widgets/controls",
            "children": [
              "IPY_MODEL_86bfcb0d015241a091962aa05ddb4b5e",
              "IPY_MODEL_c639f014faaa4fd1b1104f4d5e8bd739"
            ]
          }
        },
        "cf5515b268814842b47759d0f6a04a51": {
          "model_module": "@jupyter-widgets/base",
          "model_name": "LayoutModel",
          "state": {
            "_view_name": "LayoutView",
            "grid_template_rows": null,
            "right": null,
            "justify_content": null,
            "_view_module": "@jupyter-widgets/base",
            "overflow": null,
            "_model_module_version": "1.2.0",
            "_view_count": null,
            "flex_flow": null,
            "width": null,
            "min_width": null,
            "border": null,
            "align_items": null,
            "bottom": null,
            "_model_module": "@jupyter-widgets/base",
            "top": null,
            "grid_column": null,
            "overflow_y": null,
            "overflow_x": null,
            "grid_auto_flow": null,
            "grid_area": null,
            "grid_template_columns": null,
            "flex": null,
            "_model_name": "LayoutModel",
            "justify_items": null,
            "grid_row": null,
            "max_height": null,
            "align_content": null,
            "visibility": null,
            "align_self": null,
            "height": null,
            "min_height": null,
            "padding": null,
            "grid_auto_rows": null,
            "grid_gap": null,
            "max_width": null,
            "order": null,
            "_view_module_version": "1.2.0",
            "grid_template_areas": null,
            "object_position": null,
            "object_fit": null,
            "grid_auto_columns": null,
            "margin": null,
            "display": null,
            "left": null
          }
        },
        "86bfcb0d015241a091962aa05ddb4b5e": {
          "model_module": "@jupyter-widgets/controls",
          "model_name": "FloatProgressModel",
          "state": {
            "_view_name": "ProgressView",
            "style": "IPY_MODEL_2bda313200924131a9e93962d12b4ad1",
            "_dom_classes": [],
            "description": "Downloading: 100%",
            "_model_name": "FloatProgressModel",
            "bar_style": "success",
            "max": 231508,
            "_view_module": "@jupyter-widgets/controls",
            "_model_module_version": "1.5.0",
            "value": 231508,
            "_view_count": null,
            "_view_module_version": "1.5.0",
            "orientation": "horizontal",
            "min": 0,
            "description_tooltip": null,
            "_model_module": "@jupyter-widgets/controls",
            "layout": "IPY_MODEL_ed273130a97848128e4c7c7874d53f27"
          }
        },
        "c639f014faaa4fd1b1104f4d5e8bd739": {
          "model_module": "@jupyter-widgets/controls",
          "model_name": "HTMLModel",
          "state": {
            "_view_name": "HTMLView",
            "style": "IPY_MODEL_592848c1c91b4f36ba0e31de6e6876ae",
            "_dom_classes": [],
            "description": "",
            "_model_name": "HTMLModel",
            "placeholder": "​",
            "_view_module": "@jupyter-widgets/controls",
            "_model_module_version": "1.5.0",
            "value": " 232k/232k [00:00&lt;00:00, 737kB/s]",
            "_view_count": null,
            "_view_module_version": "1.5.0",
            "description_tooltip": null,
            "_model_module": "@jupyter-widgets/controls",
            "layout": "IPY_MODEL_8dac79e1a3be4e388d2c9cc30ccfa04d"
          }
        },
        "2bda313200924131a9e93962d12b4ad1": {
          "model_module": "@jupyter-widgets/controls",
          "model_name": "ProgressStyleModel",
          "state": {
            "_view_name": "StyleView",
            "_model_name": "ProgressStyleModel",
            "description_width": "initial",
            "_view_module": "@jupyter-widgets/base",
            "_model_module_version": "1.5.0",
            "_view_count": null,
            "_view_module_version": "1.2.0",
            "bar_color": null,
            "_model_module": "@jupyter-widgets/controls"
          }
        },
        "ed273130a97848128e4c7c7874d53f27": {
          "model_module": "@jupyter-widgets/base",
          "model_name": "LayoutModel",
          "state": {
            "_view_name": "LayoutView",
            "grid_template_rows": null,
            "right": null,
            "justify_content": null,
            "_view_module": "@jupyter-widgets/base",
            "overflow": null,
            "_model_module_version": "1.2.0",
            "_view_count": null,
            "flex_flow": null,
            "width": null,
            "min_width": null,
            "border": null,
            "align_items": null,
            "bottom": null,
            "_model_module": "@jupyter-widgets/base",
            "top": null,
            "grid_column": null,
            "overflow_y": null,
            "overflow_x": null,
            "grid_auto_flow": null,
            "grid_area": null,
            "grid_template_columns": null,
            "flex": null,
            "_model_name": "LayoutModel",
            "justify_items": null,
            "grid_row": null,
            "max_height": null,
            "align_content": null,
            "visibility": null,
            "align_self": null,
            "height": null,
            "min_height": null,
            "padding": null,
            "grid_auto_rows": null,
            "grid_gap": null,
            "max_width": null,
            "order": null,
            "_view_module_version": "1.2.0",
            "grid_template_areas": null,
            "object_position": null,
            "object_fit": null,
            "grid_auto_columns": null,
            "margin": null,
            "display": null,
            "left": null
          }
        },
        "592848c1c91b4f36ba0e31de6e6876ae": {
          "model_module": "@jupyter-widgets/controls",
          "model_name": "DescriptionStyleModel",
          "state": {
            "_view_name": "StyleView",
            "_model_name": "DescriptionStyleModel",
            "description_width": "",
            "_view_module": "@jupyter-widgets/base",
            "_model_module_version": "1.5.0",
            "_view_count": null,
            "_view_module_version": "1.2.0",
            "_model_module": "@jupyter-widgets/controls"
          }
        },
        "8dac79e1a3be4e388d2c9cc30ccfa04d": {
          "model_module": "@jupyter-widgets/base",
          "model_name": "LayoutModel",
          "state": {
            "_view_name": "LayoutView",
            "grid_template_rows": null,
            "right": null,
            "justify_content": null,
            "_view_module": "@jupyter-widgets/base",
            "overflow": null,
            "_model_module_version": "1.2.0",
            "_view_count": null,
            "flex_flow": null,
            "width": null,
            "min_width": null,
            "border": null,
            "align_items": null,
            "bottom": null,
            "_model_module": "@jupyter-widgets/base",
            "top": null,
            "grid_column": null,
            "overflow_y": null,
            "overflow_x": null,
            "grid_auto_flow": null,
            "grid_area": null,
            "grid_template_columns": null,
            "flex": null,
            "_model_name": "LayoutModel",
            "justify_items": null,
            "grid_row": null,
            "max_height": null,
            "align_content": null,
            "visibility": null,
            "align_self": null,
            "height": null,
            "min_height": null,
            "padding": null,
            "grid_auto_rows": null,
            "grid_gap": null,
            "max_width": null,
            "order": null,
            "_view_module_version": "1.2.0",
            "grid_template_areas": null,
            "object_position": null,
            "object_fit": null,
            "grid_auto_columns": null,
            "margin": null,
            "display": null,
            "left": null
          }
        }
      }
    }
  },
  "cells": [
    {
      "cell_type": "markdown",
      "metadata": {
        "id": "view-in-github",
        "colab_type": "text"
      },
      "source": [
        "<a href=\"https://colab.research.google.com/github/sayakpaul/BERT-for-Mobile/blob/master/Evaluation_SST_2_DistilBERT.ipynb\" target=\"_parent\"><img src=\"https://colab.research.google.com/assets/colab-badge.svg\" alt=\"Open In Colab\"/></a>"
      ]
    },
    {
      "cell_type": "code",
      "metadata": {
        "id": "O-A0Aq_13kT0",
        "outputId": "d7497bf1-e655-4663-a51d-7cebb362920a",
        "colab": {
          "base_uri": "https://localhost:8080/",
          "height": 68
        }
      },
      "source": [
        "!pip install -q tf-nightly"
      ],
      "execution_count": 1,
      "outputs": [
        {
          "output_type": "stream",
          "text": [
            "\u001b[K     |████████████████████████████████| 392.0MB 41kB/s \n",
            "\u001b[K     |████████████████████████████████| 471kB 46.9MB/s \n",
            "\u001b[K     |████████████████████████████████| 10.6MB 48.5MB/s \n",
            "\u001b[?25h"
          ],
          "name": "stdout"
        }
      ]
    },
    {
      "cell_type": "code",
      "metadata": {
        "id": "wNmdSmeP4gz3",
        "outputId": "c39c1a8b-7480-4b03-a793-1a855a12ccc7",
        "colab": {
          "base_uri": "https://localhost:8080/",
          "height": 102
        }
      },
      "source": [
        "!pip install -q transformers"
      ],
      "execution_count": 3,
      "outputs": [
        {
          "output_type": "stream",
          "text": [
            "\u001b[K     |████████████████████████████████| 1.1MB 4.5MB/s \n",
            "\u001b[K     |████████████████████████████████| 890kB 26.0MB/s \n",
            "\u001b[K     |████████████████████████████████| 3.0MB 34.4MB/s \n",
            "\u001b[K     |████████████████████████████████| 1.1MB 33.1MB/s \n",
            "\u001b[?25h  Building wheel for sacremoses (setup.py) ... \u001b[?25l\u001b[?25hdone\n"
          ],
          "name": "stdout"
        }
      ]
    },
    {
      "cell_type": "code",
      "metadata": {
        "id": "wdF0sY7p4AnT"
      },
      "source": [
        "!wget -q https://github.com/sayakpaul/BERT-for-Mobile/releases/download/v0.4.0/SST_Models_Seq_128.zip\n",
        "!unzip -qq SST_Models_Seq_128.zip"
      ],
      "execution_count": 2,
      "outputs": []
    },
    {
      "cell_type": "code",
      "metadata": {
        "id": "VithT5ml4Q8d",
        "outputId": "dfd0821f-5b47-41fe-e0c9-5ec5497d03d6",
        "colab": {
          "base_uri": "https://localhost:8080/",
          "height": 34
        }
      },
      "source": [
        "import tensorflow as tf\n",
        "print(tf.__version__)"
      ],
      "execution_count": 4,
      "outputs": [
        {
          "output_type": "stream",
          "text": [
            "2.4.0-dev20201007\n"
          ],
          "name": "stdout"
        }
      ]
    },
    {
      "cell_type": "code",
      "metadata": {
        "id": "cSoSRwv35uXV"
      },
      "source": [
        "import os\n",
        "import numpy as np\n",
        "import pandas as pd\n",
        "import transformers\n",
        "\n",
        "from sklearn.metrics import accuracy_score\n",
        "\n",
        "# fix random seed for reproducibility\n",
        "seed = 42\n",
        "np.random.seed(seed)\n",
        "tf.random.set_seed(seed)"
      ],
      "execution_count": 5,
      "outputs": []
    },
    {
      "cell_type": "code",
      "metadata": {
        "id": "BESTeIN353or",
        "outputId": "2e27f67b-0322-46dd-a165-d463f8f16851",
        "colab": {
          "base_uri": "https://localhost:8080/",
          "height": 71
        }
      },
      "source": [
        "data_dir = tf.keras.utils.get_file(\n",
        "      fname='SST-2.zip',\n",
        "      origin='https://firebasestorage.googleapis.com/v0/b/mtl-sentence-representations.appspot.com/o/data%2FSST-2.zip?alt=media&token=aabc5f6b-e466-44a2-b9b4-cf6337f84ac8',\n",
        "      extract=True)\n",
        "data_dir = os.path.join(os.path.dirname(data_dir), 'SST-2')"
      ],
      "execution_count": 6,
      "outputs": [
        {
          "output_type": "stream",
          "text": [
            "Downloading data from https://firebasestorage.googleapis.com/v0/b/mtl-sentence-representations.appspot.com/o/data%2FSST-2.zip?alt=media&token=aabc5f6b-e466-44a2-b9b4-cf6337f84ac8\n",
            "7446528/7439277 [==============================] - 0s 0us/step\n"
          ],
          "name": "stdout"
        }
      ]
    },
    {
      "cell_type": "code",
      "metadata": {
        "id": "2IhK4cCk56C7"
      },
      "source": [
        "# The validation set has got labels\n",
        "valid = os.path.join(data_dir, \"dev.tsv\")"
      ],
      "execution_count": 7,
      "outputs": []
    },
    {
      "cell_type": "code",
      "metadata": {
        "id": "5qD-4sii6Cnk",
        "outputId": "2c215bd9-14f5-459f-a53f-3bb4c7e29bad",
        "colab": {
          "base_uri": "https://localhost:8080/",
          "height": 170
        }
      },
      "source": [
        "valid_dataset = pd.read_csv(valid, sep='\\t')\n",
        "valid_dataset.info()"
      ],
      "execution_count": 8,
      "outputs": [
        {
          "output_type": "stream",
          "text": [
            "<class 'pandas.core.frame.DataFrame'>\n",
            "RangeIndex: 872 entries, 0 to 871\n",
            "Data columns (total 2 columns):\n",
            " #   Column    Non-Null Count  Dtype \n",
            "---  ------    --------------  ----- \n",
            " 0   sentence  872 non-null    object\n",
            " 1   label     872 non-null    int64 \n",
            "dtypes: int64(1), object(1)\n",
            "memory usage: 13.8+ KB\n"
          ],
          "name": "stdout"
        }
      ]
    },
    {
      "cell_type": "code",
      "metadata": {
        "id": "o7PU5BbO6Fzk"
      },
      "source": [
        "valid_reviews = valid_dataset['sentence'].values\n",
        "valid_sentiments = valid_dataset['label'].values"
      ],
      "execution_count": 9,
      "outputs": []
    },
    {
      "cell_type": "code",
      "metadata": {
        "id": "B0nJPhJ86IO1",
        "outputId": "1bc04030-72ff-4d73-ea72-a050129d6840",
        "colab": {
          "base_uri": "https://localhost:8080/",
          "height": 66,
          "referenced_widgets": [
            "3a4347646bec48f78094a0139987a457",
            "cf5515b268814842b47759d0f6a04a51",
            "86bfcb0d015241a091962aa05ddb4b5e",
            "c639f014faaa4fd1b1104f4d5e8bd739",
            "2bda313200924131a9e93962d12b4ad1",
            "ed273130a97848128e4c7c7874d53f27",
            "592848c1c91b4f36ba0e31de6e6876ae",
            "8dac79e1a3be4e388d2c9cc30ccfa04d"
          ]
        }
      },
      "source": [
        "tokenizer = transformers.DistilBertTokenizer.from_pretrained('distilbert-base-uncased')"
      ],
      "execution_count": 10,
      "outputs": [
        {
          "output_type": "display_data",
          "data": {
            "application/vnd.jupyter.widget-view+json": {
              "model_id": "3a4347646bec48f78094a0139987a457",
              "version_minor": 0,
              "version_major": 2
            },
            "text/plain": [
              "HBox(children=(FloatProgress(value=0.0, description='Downloading', max=231508.0, style=ProgressStyle(descripti…"
            ]
          },
          "metadata": {
            "tags": []
          }
        },
        {
          "output_type": "stream",
          "text": [
            "\n"
          ],
          "name": "stdout"
        }
      ]
    },
    {
      "cell_type": "code",
      "metadata": {
        "id": "nsGqSBi96J-K"
      },
      "source": [
        "import tqdm\n",
        "\n",
        "def create_bert_input_features(tokenizer, docs, max_seq_length):\n",
        "    \n",
        "    all_ids, all_masks = [], []\n",
        "    for doc in tqdm.tqdm(docs, desc=\"Converting docs to features\"):\n",
        "        tokens = tokenizer.tokenize(doc)\n",
        "        if len(tokens) > max_seq_length-2:\n",
        "            tokens = tokens[0 : (max_seq_length-2)]\n",
        "        tokens = ['[CLS]'] + tokens + ['[SEP]']\n",
        "        ids = tokenizer.convert_tokens_to_ids(tokens)\n",
        "        masks = [1] * len(ids)\n",
        "        # Zero-pad up to the sequence length.\n",
        "        while len(ids) < max_seq_length:\n",
        "            ids.append(0)\n",
        "            masks.append(0)\n",
        "        all_ids.append(ids)\n",
        "        all_masks.append(masks)\n",
        "    encoded = np.array([all_ids, all_masks])\n",
        "    return encoded"
      ],
      "execution_count": 11,
      "outputs": []
    },
    {
      "cell_type": "code",
      "metadata": {
        "id": "AF90BdsV6MDp",
        "outputId": "fb0ecd76-5f35-4853-a401-42c8599b6bc9",
        "colab": {
          "base_uri": "https://localhost:8080/",
          "height": 51
        }
      },
      "source": [
        "MAX_SEQ_LENGTH = 128\n",
        "\n",
        "val_features_ids, val_features_masks = create_bert_input_features(tokenizer, valid_reviews, \n",
        "                                                                  max_seq_length=MAX_SEQ_LENGTH)\n",
        "print('Val Features:', val_features_ids.shape, val_features_masks.shape)"
      ],
      "execution_count": 12,
      "outputs": [
        {
          "output_type": "stream",
          "text": [
            "Converting docs to features: 100%|██████████| 872/872 [00:00<00:00, 2386.16it/s]"
          ],
          "name": "stderr"
        },
        {
          "output_type": "stream",
          "text": [
            "Val Features: (872, 128) (872, 128)\n"
          ],
          "name": "stdout"
        },
        {
          "output_type": "stream",
          "text": [
            "\n"
          ],
          "name": "stderr"
        }
      ]
    },
    {
      "cell_type": "code",
      "metadata": {
        "id": "kV_vDjlB7NFe",
        "outputId": "e775eb1a-b054-486c-b7a4-59e3cb2c821a",
        "colab": {
          "base_uri": "https://localhost:8080/",
          "height": 357
        }
      },
      "source": [
        "interpreter = tf.lite.Interpreter(model_path=\"distilbert_sst_seq_128.tflite\")\n",
        "interpreter.allocate_tensors()\n",
        "interpreter.get_input_details()"
      ],
      "execution_count": 13,
      "outputs": [
        {
          "output_type": "execute_result",
          "data": {
            "text/plain": [
              "[{'dtype': numpy.int32,\n",
              "  'index': 0,\n",
              "  'name': 'bert_input_ids',\n",
              "  'quantization': (0.0, 0),\n",
              "  'quantization_parameters': {'quantized_dimension': 0,\n",
              "   'scales': array([], dtype=float32),\n",
              "   'zero_points': array([], dtype=int32)},\n",
              "  'shape': array([  1, 128], dtype=int32),\n",
              "  'shape_signature': array([ -1, 128], dtype=int32),\n",
              "  'sparsity_parameters': {}},\n",
              " {'dtype': numpy.int32,\n",
              "  'index': 1,\n",
              "  'name': 'bert_input_masks',\n",
              "  'quantization': (0.0, 0),\n",
              "  'quantization_parameters': {'quantized_dimension': 0,\n",
              "   'scales': array([], dtype=float32),\n",
              "   'zero_points': array([], dtype=int32)},\n",
              "  'shape': array([  1, 128], dtype=int32),\n",
              "  'shape_signature': array([ -1, 128], dtype=int32),\n",
              "  'sparsity_parameters': {}}]"
            ]
          },
          "metadata": {
            "tags": []
          },
          "execution_count": 13
        }
      ]
    },
    {
      "cell_type": "code",
      "metadata": {
        "id": "cFI02Z2y8AuS"
      },
      "source": [
        "sample_input_index = np.expand_dims(val_features_ids[0], 0).astype(np.int32)\n",
        "sample_masks_index = np.expand_dims(val_features_masks[0], 0).astype(np.int32)\n",
        "\n",
        "input_tensors = [sample_input_index, sample_masks_index]"
      ],
      "execution_count": 14,
      "outputs": []
    },
    {
      "cell_type": "code",
      "metadata": {
        "id": "1sfvart67ELs",
        "outputId": "700fb342-1d79-451b-9e89-0f35b9fa99a4",
        "colab": {
          "base_uri": "https://localhost:8080/",
          "height": 34
        }
      },
      "source": [
        "bert_input_index = interpreter.get_input_details()[0][\"index\"]\n",
        "bert_input_masks_index = interpreter.get_input_details()[1][\"index\"]\n",
        "output_index = interpreter.get_output_details()[0][\"index\"]\n",
        "\n",
        "interpreter.set_tensor(bert_input_index, sample_input_index)\n",
        "interpreter.set_tensor(bert_input_masks_index, sample_masks_index)\n",
        "interpreter.invoke()\n",
        "prediction = interpreter.tensor(output_index)\n",
        "print(prediction()[0]) # if prediction > 0.5 then class = 1 else class = 0"
      ],
      "execution_count": 15,
      "outputs": [
        {
          "output_type": "stream",
          "text": [
            "[0.9999008]\n"
          ],
          "name": "stdout"
        }
      ]
    },
    {
      "cell_type": "code",
      "metadata": {
        "id": "mRJXSDVM9sSw"
      },
      "source": [
        "# Let's convert the data type of the validation features from int64 to int32\n",
        "val_features_ids = val_features_ids.astype(np.int32)\n",
        "val_features_masks = val_features_masks.astype(np.int32)\n",
        "\n",
        "# Create TensorFlow dataset\n",
        "val_ds = (\n",
        "    tf.data.Dataset.from_tensor_slices((val_features_ids, val_features_masks, valid_sentiments))\n",
        "    .batch(1)\n",
        "    .cache()\n",
        "    .prefetch(tf.data.experimental.AUTOTUNE)\n",
        ")"
      ],
      "execution_count": 16,
      "outputs": []
    },
    {
      "cell_type": "code",
      "metadata": {
        "id": "6pdLUaLv9OsR"
      },
      "source": [
        "def get_predictions(interpreter):\n",
        "    predictions = []\n",
        "    bert_input_index = interpreter.get_input_details()[0][\"index\"]\n",
        "    bert_input_masks_index = interpreter.get_input_details()[1][\"index\"]\n",
        "    output_index = interpreter.get_output_details()[0][\"index\"]\n",
        "\n",
        "    for (i, features) in enumerate(val_ds):\n",
        "        log_steps = 100\n",
        "        tf.compat.v1.logging.log_every_n(tf.compat.v1.logging.INFO,\n",
        "                                       'Processing example: #%d', log_steps, i)\n",
        "        # Run inference\n",
        "        interpreter.set_tensor(bert_input_index, features[0])\n",
        "        interpreter.set_tensor(bert_input_masks_index, features[1])\n",
        "        interpreter.invoke()\n",
        "\n",
        "        # Parse the prediction\n",
        "        prediction = interpreter.tensor(output_index)()[0]\n",
        "        if prediction > 0.5:\n",
        "            prediction = 1\n",
        "        else:\n",
        "            prediction = 0\n",
        "        \n",
        "        predictions.append(prediction)\n",
        "\n",
        "    return predictions"
      ],
      "execution_count": 17,
      "outputs": []
    },
    {
      "cell_type": "code",
      "metadata": {
        "id": "ijeDrE3e_Fw_",
        "outputId": "6a7dfaa2-8060-49ca-b12f-0f3af91d8fa2",
        "colab": {
          "base_uri": "https://localhost:8080/",
          "height": 187
        }
      },
      "source": [
        "interpreter = tf.lite.Interpreter(model_path=\"distilbert_sst_seq_128.tflite\")\n",
        "interpreter.allocate_tensors()\n",
        "predictions = get_predictions(interpreter)\n",
        "accuracy = accuracy_score(valid_sentiments, predictions)\n",
        "print(\"Accuracy: {}%\".format(accuracy * 100.))"
      ],
      "execution_count": 18,
      "outputs": [
        {
          "output_type": "stream",
          "text": [
            "INFO:tensorflow:Processing example: #0\n",
            "INFO:tensorflow:Processing example: #100\n",
            "INFO:tensorflow:Processing example: #200\n",
            "INFO:tensorflow:Processing example: #300\n",
            "INFO:tensorflow:Processing example: #400\n",
            "INFO:tensorflow:Processing example: #500\n",
            "INFO:tensorflow:Processing example: #600\n",
            "INFO:tensorflow:Processing example: #700\n",
            "INFO:tensorflow:Processing example: #800\n",
            "Accuracy: 88.41743119266054%\n"
          ],
          "name": "stdout"
        }
      ]
    },
    {
      "cell_type": "markdown",
      "metadata": {
        "id": "D9l9JyN00T3_"
      },
      "source": [
        "Currently, there's a bug in the float16 quantization scheme for this model. "
      ]
    },
    {
      "cell_type": "code",
      "metadata": {
        "id": "Qpy7S-DKC8ha"
      },
      "source": [
        "# interpreter = tf.lite.Interpreter(model_path=\"distilbert_sst_tflite_fp16.tflite\")\n",
        "# interpreter.allocate_tensors()\n",
        "# predictions = get_predictions(interpreter)\n",
        "# accuracy = accuracy_score(valid_sentiments, predictions)\n",
        "# print(\"Accuracy: {}%\".format(accuracy * 100.))"
      ],
      "execution_count": null,
      "outputs": []
    }
  ]
}